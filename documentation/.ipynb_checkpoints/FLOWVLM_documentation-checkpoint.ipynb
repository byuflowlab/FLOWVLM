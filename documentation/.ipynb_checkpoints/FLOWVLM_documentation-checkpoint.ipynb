{
 "cells": [
  {
   "cell_type": "markdown",
   "metadata": {
    "collapsed": true,
    "heading_collapsed": true
   },
   "source": [
    "# GOVERNING EQUATIONS"
   ]
  },
  {
   "cell_type": "markdown",
   "metadata": {
    "heading_collapsed": true,
    "hidden": true
   },
   "source": [
    "## Velocity induced by a bound vortex"
   ]
  },
  {
   "cell_type": "markdown",
   "metadata": {
    "hidden": true
   },
   "source": [
    "\n",
    "\\begin{align}\n",
    "    \\vec{V} = \\frac{\\Gamma_{n}}{4\\pi} \\frac{\\vec{r_{1}}\\times\\vec{r_{2}}}{\\| \\vec{r_{1}}\\times\\vec{r_{2}} \\|^{2}}\n",
    "                \\bigg[ \\vec{r_{0}} \\boldsymbol{\\cdot} \\bigg( \\frac{\\vec{r_{1}}}{r_{1}} - \\frac{\\vec{r_{2}}}{r_{2}} \\bigg) \\bigg]\n",
    "\\end{align}\n",
    "\n",
    "\n",
    "<img src=\"img/IMG_2624.JPG\" alt=\"Drawing\" style=\"width: 300px;\"/>\n",
    "(Figure extracted from Bertin's *Aerodynamics for Engineers*)"
   ]
  },
  {
   "cell_type": "markdown",
   "metadata": {
    "heading_collapsed": true,
    "hidden": true
   },
   "source": [
    "## Velocity induced by a semi-infinite vortex"
   ]
  },
  {
   "cell_type": "markdown",
   "metadata": {
    "hidden": true
   },
   "source": [
    "\n",
    "\\begin{align}\n",
    "    \\vec{V_{A\\infty}} & = \\frac{\\Gamma}{4\\pi h}  \\hat{n}\n",
    "\\end{align}"
   ]
  },
  {
   "cell_type": "markdown",
   "metadata": {
    "heading_collapsed": true,
    "hidden": true
   },
   "source": [
    "## Boundary condition"
   ]
  },
  {
   "cell_type": "markdown",
   "metadata": {
    "hidden": true
   },
   "source": [
    "\n",
    "\\begin{align}\n",
    "        \\begin{pmatrix}\n",
    "            G_{1,1} & \\dots & G_{1,j} & \\dots & G_{1,n} \\\\\n",
    "            \\vdots & \\ddots &  & & \\\\\n",
    "            G_{i,1} & & G_{i,j}  & & \\\\\n",
    "            \\vdots & &  & \\ddots & \\\\\n",
    "            G_{m,1} & &  & & G_{m,n}\n",
    "        \\end{pmatrix}\n",
    "        \\begin{pmatrix}\n",
    "            \\Gamma_{1} \\\\ \\vdots \\\\ \\Gamma_{j} \\\\ \\vdots \\\\ \\Gamma_{n}\n",
    "        \\end{pmatrix}\n",
    "        & =\n",
    "        \\begin{pmatrix}\n",
    "            -V_{\\infty 1} \\\\ \\vdots \\\\ -V_{\\infty i}  \\\\ \\vdots \\\\ -V_{\\infty m} \n",
    "        \\end{pmatrix}\n",
    "    \\\\\n",
    "        \\mathbb{G} \\Gamma & = \\mathbb{V}_{\\hat{n}}\n",
    "    \\\\\n",
    "        \\Rightarrow \\Gamma & = \\mathbb{G}^{-1}  \\mathbb{V}_{\\hat{n}}\n",
    "\\end{align}\n"
   ]
  },
  {
   "cell_type": "markdown",
   "metadata": {
    "heading_collapsed": true,
    "hidden": true
   },
   "source": [
    "### Derivation"
   ]
  },
  {
   "cell_type": "markdown",
   "metadata": {
    "hidden": true
   },
   "source": [
    "Induced velocity on point $C$ by the n-th horseshoe of bound vortex $AB$ and vortex filaments $A\\infty$ and $B\\infty$:\n",
    "\\begin{align}\n",
    "    \\vec{V}_{AB} & =  \\frac{\\Gamma_{n}}{4\\pi} \\{ \\text{F1}_{AB}\\}\\{ \\text{F2}_{AB}\\}\n",
    "    \\\\\n",
    "    \\vec{V}_{A \\infty} & =  \\frac{\\Gamma_{n}}{4\\pi} \\{ \\text{F}_{A}\\}\n",
    "    \\\\\n",
    "    \\vec{V}_{B \\infty} & =  \\frac{\\Gamma_{n}}{4\\pi} \\{ \\text{F}_{B}\\}\n",
    "    \\\\\n",
    "    \\Rightarrow \\vec{V} & =  \\vec{V}_{AB} + \\vec{V}_{A \\infty} + \\vec{V}_{B \\infty}\n",
    "    \\\\\n",
    "    \\Rightarrow \\vec{V} & =  \\Gamma_{n} \\vec{G}_{n}\n",
    "    \\\\ &\n",
    "    \\\\\n",
    "    \\text{with} &\n",
    "    \\\\\n",
    "    \\vec{G}_{n} & = \\frac{1}{4\\pi} \\bigg(  \\{ \\text{F1}_{AB}\\}\\{ \\text{F2}_{AB}\\} +  \\{ \\text{F}_{A}\\} + \\{ \\text{F}_{B}\\} \\bigg)\n",
    "\\end{align}\n",
    "\n",
    "Then, the induced velocity at the m-th control point due to all the horseshoe:\n",
    "\n",
    "\\begin{align}\n",
    "    \\vec{V}_{m} & = \\sum_{n} \\vec{V}_{m,n}\n",
    "    \\\\\n",
    "    \\vec{V}_{m} & = \\sum_{n} \\Gamma_{n} \\vec{G}_{m,n}\n",
    "\\end{align}\n",
    "with $\\vec{V}_{m,n}$ the induced velocity of the n-th horseshoe over the m-th control point.\n",
    "\n",
    "Imposing the boundary condition at the m-th control point:\n",
    "\n",
    "\\begin{align}\n",
    "    \\vec{V}_{m}\\boldsymbol{\\cdot} \\hat{n} & = - \\vec{V}_{\\infty}\\boldsymbol{\\cdot} \\hat{n}\n",
    "    \\\\\n",
    "    \\big( \\sum_{n} \\Gamma_{n} \\vec{G}_{m,n} \\big) \\boldsymbol{\\cdot} \\hat{n} & = - \\vec{V}_{\\infty}\\boldsymbol{\\cdot} \\hat{n}\n",
    "    \\\\\n",
    "    \\Rightarrow \\sum_{n} \\Gamma_{n} \\big( \\vec{G}_{m,n} \\boldsymbol{\\cdot} \\hat{n} \\big) & = - V_{\\infty \\hat{n}_{m}}\n",
    "    \\\\\n",
    "    \\Rightarrow \\sum_{n} \\Gamma_{n}  G_{m,n, \\hat{n}} & = - V_{\\infty \\hat{n}_{m}}\n",
    "\\end{align}\n",
    "With $\\vec{V}_{\\infty}$ free-stream velocity, $\\hat{n}$ normal to the surface of the panel at the control point, $V_{\\infty \\hat{n}_{m}}$ the normal component of $\\vec{V}_{\\infty}$ at the m-th panel, and $ G_{m,n, \\hat{n}} = \\vec{G}_{m,n} \\boldsymbol{\\cdot} \\hat{n} $ the normal component of the geometric factor. This is an equation of $N$ unknown terms $\\Gamma_{n}$, where $N$ is the number of panels. Applying the boundary condition to all the panels, the system of equations is obtained:\n",
    "\n",
    "\\begin{align}\n",
    "        \\begin{pmatrix}\n",
    "            G_{1,1} & \\dots & G_{1,j} & \\dots & G_{1,n} \\\\\n",
    "            \\vdots & \\ddots &  & & \\\\\n",
    "            G_{i,1} & & G_{i,j}  & & \\\\\n",
    "            \\vdots & &  & \\ddots & \\\\\n",
    "            G_{m,1} & &  & & G_{m,n}\n",
    "        \\end{pmatrix}\n",
    "        \\begin{pmatrix}\n",
    "            \\Gamma_{1} \\\\ \\vdots \\\\ \\Gamma_{j} \\\\ \\vdots \\\\ \\Gamma_{n}\n",
    "        \\end{pmatrix}\n",
    "        & =\n",
    "        \\begin{pmatrix}\n",
    "            -V_{\\infty 1} \\\\ \\vdots \\\\ -V_{\\infty i}  \\\\ \\vdots \\\\ -V_{\\infty m} \n",
    "        \\end{pmatrix}\n",
    "    \\\\\n",
    "        \\mathbb{G} \\Gamma & = \\mathbb{V}_{\\hat{n}}\n",
    "    \\\\\n",
    "        \\Rightarrow \\Gamma & = \\mathbb{G}^{-1}  \\mathbb{V}_{\\hat{n}}\n",
    "\\end{align}\n",
    "\n",
    "with $G_{i,j} = G_{i,j,\\hat{n}}$ and $V_{\\infty i}=V_{\\infty \\hat{n}_{i}}$\n"
   ]
  },
  {
   "cell_type": "markdown",
   "metadata": {},
   "source": [
    "# GEOMETRY"
   ]
  },
  {
   "cell_type": "markdown",
   "metadata": {},
   "source": [
    "## Horseshoe definition"
   ]
  },
  {
   "cell_type": "markdown",
   "metadata": {},
   "source": [
    "A horseshoe is a five-sections vortex defined as follows:\n",
    "\n",
    "<img src=\"img/IMG_2634.JPG\" alt=\"Drawing\" style=\"width: 500px;\"/>\n",
    "\n",
    "* The control point $CP$ of the corresponding panel is at position $p_m$ distance of the chord.\n",
    "* The bound vortex $AB$ at position $p_n$ distance of the chord.\n",
    "* $p_m$ and $p_n$ are typically 3/4 and 1/4, respectively, but this can be changed by the user.\n",
    "* Point $A$ defines the left side of the panel, $B$ the right side, and flow is expected to come from the leading edge direction. Thus, the normal of the panel points up in the clockwise direction of $ACPB$.\n",
    "* Semi-infinite vortex are be shed in the direction of freestream from points $A'$ and $B'$"
   ]
  }
 ],
 "metadata": {
  "kernelspec": {
   "display_name": "Julia 0.5.2",
   "language": "julia",
   "name": "julia-0.5"
  },
  "language_info": {
   "file_extension": ".jl",
   "mimetype": "application/julia",
   "name": "julia",
   "version": "0.5.2"
  }
 },
 "nbformat": 4,
 "nbformat_minor": 2
}
