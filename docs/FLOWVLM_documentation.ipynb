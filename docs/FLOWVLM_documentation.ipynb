{
 "cells": [
  {
   "cell_type": "markdown",
   "metadata": {
    "collapsed": true,
    "heading_collapsed": true
   },
   "source": [
    "# GOVERNING EQUATIONS"
   ]
  },
  {
   "cell_type": "markdown",
   "metadata": {
    "heading_collapsed": true,
    "hidden": true
   },
   "source": [
    "## Velocity induced by a bound vortex"
   ]
  },
  {
   "cell_type": "markdown",
   "metadata": {
    "hidden": true
   },
   "source": [
    "\n",
    "\\begin{align}\n",
    "    \\vec{V} = \\frac{\\Gamma_{n}}{4\\pi} \\frac{\\vec{r_{1}}\\times\\vec{r_{2}}}{\\| \\vec{r_{1}}\\times\\vec{r_{2}} \\|^{2}}\n",
    "                \\bigg[ \\vec{r_{0}} \\boldsymbol{\\cdot} \\bigg( \\frac{\\vec{r_{1}}}{r_{1}} - \\frac{\\vec{r_{2}}}{r_{2}} \\bigg) \\bigg]\n",
    "\\end{align}\n",
    "\n",
    "\n",
    "<img src=\"img/IMG_2624.JPG\" alt=\"Drawing\" style=\"width: 300px;\"/>\n",
    "(Figure extracted from Bertin's *Aerodynamics for Engineers*)"
   ]
  },
  {
   "cell_type": "markdown",
   "metadata": {
    "heading_collapsed": true,
    "hidden": true
   },
   "source": [
    "## Velocity induced by a semi-infinite vortex"
   ]
  },
  {
   "cell_type": "markdown",
   "metadata": {
    "hidden": true
   },
   "source": [
    "\n",
    "\\begin{align}\n",
    "    \\vec{V_{A\\infty}} & = \\frac{\\Gamma}{4\\pi h}  \\hat{n}\n",
    "\\end{align}"
   ]
  },
  {
   "cell_type": "markdown",
   "metadata": {
    "heading_collapsed": true,
    "hidden": true
   },
   "source": [
    "## Boundary condition"
   ]
  },
  {
   "cell_type": "markdown",
   "metadata": {
    "hidden": true
   },
   "source": [
    "The solver imposes the no-through-flow at all control points and solves  for circulation on each horseshoe that will satisfy such condition:\n",
    "\n",
    "\\begin{align}\n",
    "        \\begin{pmatrix}\n",
    "            G_{1,1} & \\dots & G_{1,j} & \\dots & G_{1,n} \\\\\n",
    "            \\vdots & \\ddots &  & & \\\\\n",
    "            G_{i,1} & & G_{i,j}  & & \\\\\n",
    "            \\vdots & &  & \\ddots & \\\\\n",
    "            G_{m,1} & &  & & G_{m,n}\n",
    "        \\end{pmatrix}\n",
    "        \\begin{pmatrix}\n",
    "            \\Gamma_{1} \\\\ \\vdots \\\\ \\Gamma_{j} \\\\ \\vdots \\\\ \\Gamma_{n}\n",
    "        \\end{pmatrix}\n",
    "        & =\n",
    "        \\begin{pmatrix}\n",
    "            -V_{\\infty 1} \\\\ \\vdots \\\\ -V_{\\infty i}  \\\\ \\vdots \\\\ -V_{\\infty m} \n",
    "        \\end{pmatrix}\n",
    "    \\\\\n",
    "        \\mathbb{G} \\Gamma & = \\mathbb{V}_{\\hat{n}}\n",
    "    \\\\\n",
    "        \\Rightarrow \\Gamma & = \\mathbb{G}^{-1}  \\mathbb{V}_{\\hat{n}}\n",
    "\\end{align}\n"
   ]
  },
  {
   "cell_type": "markdown",
   "metadata": {
    "heading_collapsed": true,
    "hidden": true
   },
   "source": [
    "### Formulation"
   ]
  },
  {
   "cell_type": "markdown",
   "metadata": {
    "hidden": true
   },
   "source": [
    "Induced velocity on point $C$ by the n-th horseshoe of bound vortex $AB$ and vortex filaments $A\\infty$ and $B\\infty$:\n",
    "\n",
    "\\begin{align}\n",
    "    \\vec{V}_{AB} & =  \\frac{\\Gamma_{n}}{4\\pi} \\{ \\text{F1}_{AB}\\}\\{ \\text{F2}_{AB}\\}\n",
    "    \\\\\n",
    "    \\vec{V}_{A \\infty} & =  \\frac{\\Gamma_{n}}{4\\pi} \\{ \\text{F}_{A}\\}\n",
    "    \\\\\n",
    "    \\vec{V}_{B \\infty} & =  \\frac{\\Gamma_{n}}{4\\pi} \\{ \\text{F}_{B}\\}\n",
    "    \\\\\n",
    "    \\Rightarrow \\vec{V} & =  \\vec{V}_{AB} + \\vec{V}_{A \\infty} + \\vec{V}_{B \\infty}\n",
    "    \\\\\n",
    "    \\Rightarrow \\vec{V} & =  \\Gamma_{n} \\vec{G}_{n}\n",
    "    \\\\ &\n",
    "    \\\\\n",
    "    \\text{with} &\n",
    "    \\\\\n",
    "    \\vec{G}_{n} & = \\frac{1}{4\\pi} \\bigg(  \\{ \\text{F1}_{AB}\\}\\{ \\text{F2}_{AB}\\} +  \\{ \\text{F}_{A}\\} + \\{ \\text{F}_{B}\\} \\bigg)\n",
    "\\end{align}\n",
    "\n",
    "Then, the induced velocity at the m-th control point due to all the horseshoe:\n",
    "\n",
    "\\begin{align}\n",
    "    \\vec{V}_{m} & = \\sum_{n} \\vec{V}_{m,n}\n",
    "    \\\\\n",
    "    \\vec{V}_{m} & = \\sum_{n} \\Gamma_{n} \\vec{G}_{m,n}\n",
    "\\end{align}\n",
    "with $\\vec{V}_{m,n}$ the induced velocity of the n-th horseshoe over the m-th control point.\n",
    "\n",
    "Imposing the boundary condition at the m-th control point:\n",
    "\n",
    "\\begin{align}\n",
    "    \\vec{V}_{m}\\boldsymbol{\\cdot} \\hat{n} & = - \\vec{V}_{\\infty}\\boldsymbol{\\cdot} \\hat{n}\n",
    "    \\\\\n",
    "    \\big( \\sum_{n} \\Gamma_{n} \\vec{G}_{m,n} \\big) \\boldsymbol{\\cdot} \\hat{n} & = - \\vec{V}_{\\infty}\\boldsymbol{\\cdot} \\hat{n}\n",
    "    \\\\\n",
    "    \\Rightarrow \\sum_{n} \\Gamma_{n} \\big( \\vec{G}_{m,n} \\boldsymbol{\\cdot} \\hat{n} \\big) & = - V_{\\infty \\hat{n}_{m}}\n",
    "    \\\\\n",
    "    \\Rightarrow \\sum_{n} \\Gamma_{n}  G_{m,n, \\hat{n}} & = - V_{\\infty \\hat{n}_{m}}\n",
    "\\end{align}\n",
    "With $\\vec{V}_{\\infty}$ free-stream velocity, $\\hat{n}$ normal to the surface of the panel at the control point, $V_{\\infty \\hat{n}_{m}}$ the normal component of $\\vec{V}_{\\infty}$ at the m-th panel, and $ G_{m,n, \\hat{n}} = \\vec{G}_{m,n} \\boldsymbol{\\cdot} \\hat{n} $ the normal component of the geometric factor. This is an equation of $N$ unknown terms $\\Gamma_{n}$, where $N$ is the number of panels. Applying the boundary condition to all the panels, the system of equations is obtained:\n",
    "\n",
    "\\begin{align}\n",
    "        \\begin{pmatrix}\n",
    "            G_{1,1} & \\dots & G_{1,j} & \\dots & G_{1,n} \\\\\n",
    "            \\vdots & \\ddots &  & & \\\\\n",
    "            G_{i,1} & & G_{i,j}  & & \\\\\n",
    "            \\vdots & &  & \\ddots & \\\\\n",
    "            G_{m,1} & &  & & G_{m,n}\n",
    "        \\end{pmatrix}\n",
    "        \\begin{pmatrix}\n",
    "            \\Gamma_{1} \\\\ \\vdots \\\\ \\Gamma_{j} \\\\ \\vdots \\\\ \\Gamma_{n}\n",
    "        \\end{pmatrix}\n",
    "        & =\n",
    "        \\begin{pmatrix}\n",
    "            -V_{\\infty 1} \\\\ \\vdots \\\\ -V_{\\infty i}  \\\\ \\vdots \\\\ -V_{\\infty m} \n",
    "        \\end{pmatrix}\n",
    "    \\\\\n",
    "        \\mathbb{G} \\Gamma & = \\mathbb{V}_{\\hat{n}}\n",
    "    \\\\\n",
    "        \\Rightarrow \\Gamma & = \\mathbb{G}^{-1}  \\mathbb{V}_{\\hat{n}}\n",
    "\\end{align}\n",
    "\n",
    "with $G_{i,j} = G_{i,j,\\hat{n}}$ and $V_{\\infty i}=V_{\\infty \\hat{n}_{i}}$\n"
   ]
  },
  {
   "cell_type": "markdown",
   "metadata": {
    "heading_collapsed": true
   },
   "source": [
    "# GEOMETRY"
   ]
  },
  {
   "cell_type": "markdown",
   "metadata": {
    "heading_collapsed": true,
    "hidden": true
   },
   "source": [
    "## Horseshoe definition"
   ]
  },
  {
   "cell_type": "markdown",
   "metadata": {
    "hidden": true
   },
   "source": [
    "A horseshoe is a five-sections vortex defined as follows:\n",
    "\n",
    "<img src=\"img/IMG_2634.JPG\" alt=\"Drawing\" style=\"width: 500px;\"/>\n",
    "\n",
    "* The control point $CP$ of the corresponding panel is at position $p_m$ distance of the chord.\n",
    "* The bound vortex $AB$ at position $p_n$ distance of the chord.\n",
    "* $p_m$ and $p_n$ are typically 3/4 and 1/4, respectively, but this can be changed by the user.\n",
    "* Point $A$ defines the left side of the panel, $B$ the right side, and flow is expected to come from the leading edge direction. Thus, the normal of the panel points up in the clockwise direction of $ACPB$.\n",
    "* Semi-infinite vortex are be shed in the direction of freestream from points $A'$ and $B'$"
   ]
  },
  {
   "cell_type": "markdown",
   "metadata": {
    "heading_collapsed": true,
    "hidden": true
   },
   "source": [
    "## Wing definition"
   ]
  },
  {
   "cell_type": "markdown",
   "metadata": {
    "hidden": true
   },
   "source": [
    "The type `Wing` in `FLOWVLM.jl` is a constructor for an individual lifting surface. It builds the wing by chord sections from left to right constrained to all chords being parallel to the $zx$-plane in the local reference frame (if done otherwise defines the normal of the surface upside down). \n",
    "\n",
    "<img src=\"img/localcoordsystem01.png\" alt=\"Drawing\" style=\"width: 500px;\"/>\n",
    "\n",
    "The wing shown above (Bertin's wing) was built with the following code:\n",
    "\n",
    "```julia\n",
    "include(\"src/FLOWVLM.jl\")\n",
    "vlm=FLOWVLM\n",
    "\n",
    "b=98*0.0254      # Span\n",
    "ar = 5.0         # Aspect ratio\n",
    "tr = 1.0         # Taper ratio\n",
    "lambda = 45.0    # Sweep\n",
    "gamma = 0.0      # Dihedral\n",
    "twist_tip = 0.0  # Tip's twist\n",
    "twist_root = 0.0 # Root's twist\n",
    "\n",
    "n=4              # Lattice per semi-span\n",
    "r=1.0            # Ratio between first and last lattice's span\n",
    "\n",
    "# Geometrical calculations\n",
    "cr = 1/tr\n",
    "c_tip = b/ar\n",
    "c_root = cr*c_tip\n",
    "y_tip = b/2\n",
    "x_tip = y_tip*tan(lambda*pi/180)\n",
    "z_tip = y_tip*tan(gamma*pi/180)\n",
    "\n",
    "# Initializes the wing with the left tip's chord\n",
    "wing = vlm.Wing(x_tip, -y_tip, z_tip, c_tip, twist_tip)\n",
    "# Adds the root chord\n",
    "vlm.addchord(wing, 0.0, 0.0, 0.0, c_root, twist_root, n, r)\n",
    "# Adds the right tip chord\n",
    "vlm.addchord(wing, x_tip, y_tip, z_tip, c_tip, twist_tip, n, 1/r)\n",
    "```"
   ]
  },
  {
   "cell_type": "markdown",
   "metadata": {
    "hidden": true
   },
   "source": [
    "In order to visualize the geometry, first the indisturbed freestream must be given (it will use it to calculate the direction of the force-free trailing wakes), then the geometry can be exported as a VTK-legacy format to be opened in Paraview:\n",
    "\n",
    "```julia\n",
    "function Vinf(X, t)\n",
    "    return [55.0, 0.0, 0.0]\n",
    "end\n",
    "\n",
    "# Sets the freestream function\n",
    "vlm.setVinf(wing, Vinf)\n",
    "\n",
    "# Generates VTK\n",
    "vlm.save(wing, \"BertinsWing\"; save_horseshoes=true)\n",
    "```"
   ]
  },
  {
   "cell_type": "markdown",
   "metadata": {
    "heading_collapsed": true,
    "hidden": true
   },
   "source": [
    "## Lattice refinement"
   ]
  },
  {
   "cell_type": "markdown",
   "metadata": {
    "hidden": true
   },
   "source": [
    "Since the calculation of aerodynamic forces needs a lattice refinement on wherever there are high changes in circulation, I added the feature to `vlm.addchord()` of refining the lattice at an indicated location:\n",
    "\n",
    "```julia\n",
    "# In this code, vlm.simpleWing() is a wrapper for vlm.addchord()\n",
    "include(\"docs/validation.jl\");\n",
    "\n",
    "magVinf = 163*0.3048 # m/s\n",
    "alpha = 4.2\n",
    "b=98*0.0254\n",
    "lambda = 45.0\n",
    "ar = 5.0\n",
    "tr = 1.0\n",
    "gamma = 0.\n",
    "twist = 0.0\n",
    "\n",
    "function Vinf(X, t)\n",
    "  return magVinf*[ cos(alpha*pi/180), 0.0, sin(alpha*pi/180)]\n",
    "end\n",
    "\n",
    "wing = vlm.simpleWing(b, ar, tr, twist, lambda, gamma;\n",
    "                       n=4*2^4, r=1/40.0, central=true);\n",
    "vlm.setVinf(wing, Vinf)\n",
    "```\n",
    "\n",
    "<img src=\"img/latticeref00.png\" alt=\"Drawing\" style=\"width: 800px;\"/>"
   ]
  },
  {
   "cell_type": "markdown",
   "metadata": {
    "hidden": true
   },
   "source": [
    "```julia\n",
    "wing = vlm.simpleWing(b, ar, tr, twist, lambda, gamma;\n",
    "                       n=4*2^4, r=1/40.0, central=0.25);\n",
    "vlm.setVinf(wing, Vinf)\n",
    "```\n",
    "<img src=\"img/latticeref01.png\" alt=\"Drawing\" style=\"width: 800px;\"/>"
   ]
  },
  {
   "cell_type": "markdown",
   "metadata": {
    "hidden": true
   },
   "source": [
    "However, for simplicity I didn't add the feature of distributing the number of lattices in each section through that method, which makes it somewhat choppy when the center is not at 0.5 (see picture above). I defined a method for complex refinement where the user can choose how to distribute the lattices in each section (see documentation of function `vlm.addchord()` for more details):\n",
    "\n",
    "```julia\n",
    "secs = [[25, 45, 1/40], [75, 55, 40]]\n",
    "wing = vlm.simpleWing(b, ar, tr, twist, lambda, gamma;\n",
    "                       n=4*2^4, refinement=secs);\n",
    "vlm.setVinf(wing, Vinf)\n",
    "```\n",
    "\n",
    "<img src=\"img/latticeref03.png\" alt=\"Drawing\" style=\"width: 800px;\"/>"
   ]
  },
  {
   "cell_type": "markdown",
   "metadata": {
    "hidden": true
   },
   "source": [
    "This method is specially useful for refining around distributed propulsion:\n",
    "\n",
    "```julia\n",
    "secs = [[25, 25, 1/10], [20, 25, 10],  [20, 25, 1/10], [35, 25, 10]]\n",
    "wing = vlm.simpleWing(b, ar, tr, twist, lambda, gamma;\n",
    "                       n=4*2^4, refinement=secs);\n",
    "vlm.setVinf(wing, Vinf)\n",
    "```\n",
    "\n",
    "\n",
    "<img src=\"img/latticeref02.png\" alt=\"Drawing\" style=\"width: 800px;\"/>\n"
   ]
  },
  {
   "cell_type": "markdown",
   "metadata": {},
   "source": [
    "# SOLUTION AND FIELDS"
   ]
  },
  {
   "cell_type": "markdown",
   "metadata": {
    "heading_collapsed": true
   },
   "source": [
    "## Solve VLM (Gamma field)"
   ]
  },
  {
   "cell_type": "markdown",
   "metadata": {
    "hidden": true
   },
   "source": [
    "Once a Wing object has been defined, solving the vortex lattice on the lifting surface (or lifting surfaces if a WingSystem) calculates the circulation $\\Gamma$ of each horseshoe vortex imposing the boundary condition of no-trough flow. The solver receives the function `Vinf` that is used for calculating the undisturbed freestream velocity at each control point and defines the direction of each semi-infinite vortex.\n",
    "\n",
    "```julia\n",
    "function Vinf(X, t)\n",
    "    return [49.7, 0.0, 0.0]\n",
    "end\n",
    "\n",
    "vlm.solve(wing, Vinf)\n",
    "```\n",
    "\n",
    "`vlm.solve(wing, Vinf)` will delete any previous solutions and overwrite any previus `Vinf` and will generate the field Gamma in `wing.sol[\"Gamma\"]`.\n",
    "\n",
    "\n",
    "SIDENOTE\n",
    "\n",
    "There are three different ways of defining the angle of attack (AOA) of the wing:\n",
    "\n",
    "1. Include the AOA in the inclination of the freestream defined in the function `Vinf(X, t)`.\n",
    "2. Include the AOA in the geometry of the wing when constructing the wing.\n",
    "3. Modify the local coordinate system of the wing to reflect the AOA respect to the global coordinate system.\n"
   ]
  },
  {
   "cell_type": "markdown",
   "metadata": {},
   "source": [
    "## Aerodynamic forces"
   ]
  },
  {
   "cell_type": "markdown",
   "metadata": {},
   "source": [
    "Aerodynamic forces are calculated through Kutta-Joukowski theorem:\n",
    "\n",
    "\\begin{align}\n",
    "        \\vec{F} & \\equiv \\rho \\int_{S}\\vec{V_{\\infty}} \\times \\vec{\\Gamma} dS\n",
    "\\end{align}\n",
    "\n",
    "with $S$ the path of the vortex line. In the case of a straight vortex bounded by points A and B in the direction AB:\n",
    "\n",
    "\\begin{align}\n",
    "        \\vec{F} & = \\rho \\Gamma (\\vec{V_{\\infty}} \\times \\vec{S})\n",
    "\\end{align}\n",
    "\n",
    "\\begin{equation}\n",
    "        \\Rightarrow \\boxed{ \\vec{F} = \\rho \\Gamma  \\vec{V_{\\infty}} \\times (\\vec{B}-\\vec{A})  }\n",
    "\\end{equation}\n",
    "\n",
    "which then will be decomposed as:\n",
    "\n",
    "\\begin{align}\n",
    "    \\vec{F} & = \n",
    "        (\\vec{F} \\boldsymbol\\cdot {\\tiny \\hat{D}} ) {\\tiny \\hat{D}}\n",
    "        + (\\vec{F}\\boldsymbol\\cdot\\hat{s})\\hat{s}\n",
    "        +(\\vec{F}\\boldsymbol\\cdot {\\tiny\\hat{L}} ) {\\tiny\\hat{L}}\n",
    "    \\\\\n",
    "    \\vec{F} & = \\vec{D} + \\vec{S} + \\vec{L}\n",
    "\\end{align}\n",
    "\n",
    "If the undisturbed freestream is used, interactions between lifting surfaces (multiple wings) are not accounted for; hence, instead of calculating forces over $\\vec{V_{\\infty}}$, they will be calculated over $\\vec{V} = \\vec{V_{\\infty}} + \\vec{V_{ind}}$. Calculating drag through this method is less accurate than calculating it at the Trefftz plane; however, this allows to account by induced downwash in interaction between wings when calculating aerodynamic forces."
   ]
  }
 ],
 "metadata": {
  "kernelspec": {
   "display_name": "Julia 0.5.2",
   "language": "julia",
   "name": "julia-0.5"
  },
  "language_info": {
   "file_extension": ".jl",
   "mimetype": "application/julia",
   "name": "julia",
   "version": "0.5.2"
  }
 },
 "nbformat": 4,
 "nbformat_minor": 2
}
