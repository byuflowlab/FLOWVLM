{
 "cells": [
  {
   "cell_type": "markdown",
   "metadata": {},
   "source": [
    "\n",
    "<img src=\"img/example01.png\" alt=\"Drawing\" style=\"width: 600px;\"/>\n",
    "\n",
    "<img src=\"vid/examplestreams.gif\" alt=\"Drawing\" style=\"width: 600px;\"/>"
   ]
  },
  {
   "cell_type": "markdown",
   "metadata": {
    "collapsed": true,
    "heading_collapsed": true
   },
   "source": [
    "# Governing Equations"
   ]
  },
  {
   "cell_type": "markdown",
   "metadata": {
    "heading_collapsed": true,
    "hidden": true
   },
   "source": [
    "## Velocity induced by a bound vortex"
   ]
  },
  {
   "cell_type": "markdown",
   "metadata": {
    "hidden": true
   },
   "source": [
    "\n",
    "\\begin{align}\n",
    "    \\vec{V} = \\frac{\\Gamma_{n}}{4\\pi} \\frac{\\vec{r_{1}}\\times\\vec{r_{2}}}{\\| \\vec{r_{1}}\\times\\vec{r_{2}} \\|^{2}}\n",
    "                \\bigg[ \\vec{r_{0}} \\boldsymbol{\\cdot} \\bigg( \\frac{\\vec{r_{1}}}{r_{1}} - \\frac{\\vec{r_{2}}}{r_{2}} \\bigg) \\bigg]\n",
    "\\end{align}\n",
    "\n",
    "\n",
    "<img src=\"img/IMG_2624.JPG\" alt=\"Drawing\" style=\"width: 300px;\"/>\n",
    "(Figure extracted from Bertin's *Aerodynamics for Engineers*)"
   ]
  },
  {
   "cell_type": "markdown",
   "metadata": {
    "heading_collapsed": true,
    "hidden": true
   },
   "source": [
    "## Velocity induced by a semi-infinite vortex"
   ]
  },
  {
   "cell_type": "markdown",
   "metadata": {
    "hidden": true
   },
   "source": [
    "\n",
    "\\begin{align}\n",
    "    \\vec{V_{A\\infty}} & = \\frac{\\Gamma}{4\\pi h}  \\hat{n}\n",
    "\\end{align}"
   ]
  },
  {
   "cell_type": "markdown",
   "metadata": {
    "heading_collapsed": true,
    "hidden": true
   },
   "source": [
    "## Boundary condition"
   ]
  },
  {
   "cell_type": "markdown",
   "metadata": {
    "hidden": true
   },
   "source": [
    "The solver imposes the no-through-flow at all control points and solves  for circulation on each horseshoe that will satisfy such condition:\n",
    "\n",
    "\\begin{align}\n",
    "        \\begin{pmatrix}\n",
    "            G_{1,1} & \\dots & G_{1,j} & \\dots & G_{1,n} \\\\\n",
    "            \\vdots & \\ddots &  & & \\\\\n",
    "            G_{i,1} & & G_{i,j}  & & \\\\\n",
    "            \\vdots & &  & \\ddots & \\\\\n",
    "            G_{m,1} & &  & & G_{m,n}\n",
    "        \\end{pmatrix}\n",
    "        \\begin{pmatrix}\n",
    "            \\Gamma_{1} \\\\ \\vdots \\\\ \\Gamma_{j} \\\\ \\vdots \\\\ \\Gamma_{n}\n",
    "        \\end{pmatrix}\n",
    "        & =\n",
    "        \\begin{pmatrix}\n",
    "            -V_{\\infty 1} \\\\ \\vdots \\\\ -V_{\\infty i}  \\\\ \\vdots \\\\ -V_{\\infty m} \n",
    "        \\end{pmatrix}\n",
    "    \\\\\n",
    "        \\mathbb{G} \\Gamma & = \\mathbb{V}_{\\hat{n}}\n",
    "    \\\\\n",
    "        \\Rightarrow \\Gamma & = \\mathbb{G}^{-1}  \\mathbb{V}_{\\hat{n}}\n",
    "\\end{align}\n"
   ]
  },
  {
   "cell_type": "markdown",
   "metadata": {
    "heading_collapsed": true,
    "hidden": true
   },
   "source": [
    "### Formulation"
   ]
  },
  {
   "cell_type": "markdown",
   "metadata": {
    "hidden": true
   },
   "source": [
    "Induced velocity on point $C$ by the n-th horseshoe of bound vortex $AB$ and vortex filaments $A\\infty$ and $B\\infty$:\n",
    "\n",
    "\\begin{align}\n",
    "    \\vec{V}_{AB} & =  \\frac{\\Gamma_{n}}{4\\pi} \\{ \\text{F1}_{AB}\\}\\{ \\text{F2}_{AB}\\}\n",
    "    \\\\\n",
    "    \\vec{V}_{A \\infty} & =  \\frac{\\Gamma_{n}}{4\\pi} \\{ \\text{F}_{A}\\}\n",
    "    \\\\\n",
    "    \\vec{V}_{B \\infty} & =  \\frac{\\Gamma_{n}}{4\\pi} \\{ \\text{F}_{B}\\}\n",
    "    \\\\\n",
    "    \\Rightarrow \\vec{V} & =  \\vec{V}_{AB} + \\vec{V}_{A \\infty} + \\vec{V}_{B \\infty}\n",
    "    \\\\\n",
    "    \\Rightarrow \\vec{V} & =  \\Gamma_{n} \\vec{G}_{n}\n",
    "    \\\\ &\n",
    "    \\\\\n",
    "    \\text{with} &\n",
    "    \\\\\n",
    "    \\vec{G}_{n} & = \\frac{1}{4\\pi} \\bigg(  \\{ \\text{F1}_{AB}\\}\\{ \\text{F2}_{AB}\\} +  \\{ \\text{F}_{A}\\} + \\{ \\text{F}_{B}\\} \\bigg)\n",
    "\\end{align}\n",
    "\n",
    "Then, the induced velocity at the m-th control point due to all the horseshoe:\n",
    "\n",
    "\\begin{align}\n",
    "    \\vec{V}_{m} & = \\sum_{n} \\vec{V}_{m,n}\n",
    "    \\\\\n",
    "    \\vec{V}_{m} & = \\sum_{n} \\Gamma_{n} \\vec{G}_{m,n}\n",
    "\\end{align}\n",
    "with $\\vec{V}_{m,n}$ the induced velocity of the n-th horseshoe over the m-th control point.\n",
    "\n",
    "Imposing the boundary condition at the m-th control point:\n",
    "\n",
    "\\begin{align}\n",
    "    \\vec{V}_{m}\\boldsymbol{\\cdot} \\hat{n} & = - \\vec{V}_{\\infty}\\boldsymbol{\\cdot} \\hat{n}\n",
    "    \\\\\n",
    "    \\big( \\sum_{n} \\Gamma_{n} \\vec{G}_{m,n} \\big) \\boldsymbol{\\cdot} \\hat{n} & = - \\vec{V}_{\\infty}\\boldsymbol{\\cdot} \\hat{n}\n",
    "    \\\\\n",
    "    \\Rightarrow \\sum_{n} \\Gamma_{n} \\big( \\vec{G}_{m,n} \\boldsymbol{\\cdot} \\hat{n} \\big) & = - V_{\\infty \\hat{n}_{m}}\n",
    "    \\\\\n",
    "    \\Rightarrow \\sum_{n} \\Gamma_{n}  G_{m,n, \\hat{n}} & = - V_{\\infty \\hat{n}_{m}}\n",
    "\\end{align}\n",
    "With $\\vec{V}_{\\infty}$ free-stream velocity, $\\hat{n}$ normal to the surface of the panel at the control point, $V_{\\infty \\hat{n}_{m}}$ the normal component of $\\vec{V}_{\\infty}$ at the m-th panel, and $ G_{m,n, \\hat{n}} = \\vec{G}_{m,n} \\boldsymbol{\\cdot} \\hat{n} $ the normal component of the geometric factor. This is an equation of $N$ unknown terms $\\Gamma_{n}$, where $N$ is the number of panels. Applying the boundary condition to all the panels, the system of equations is obtained:\n",
    "\n",
    "\\begin{align}\n",
    "        \\begin{pmatrix}\n",
    "            G_{1,1} & \\dots & G_{1,j} & \\dots & G_{1,n} \\\\\n",
    "            \\vdots & \\ddots &  & & \\\\\n",
    "            G_{i,1} & & G_{i,j}  & & \\\\\n",
    "            \\vdots & &  & \\ddots & \\\\\n",
    "            G_{m,1} & &  & & G_{m,n}\n",
    "        \\end{pmatrix}\n",
    "        \\begin{pmatrix}\n",
    "            \\Gamma_{1} \\\\ \\vdots \\\\ \\Gamma_{j} \\\\ \\vdots \\\\ \\Gamma_{n}\n",
    "        \\end{pmatrix}\n",
    "        & =\n",
    "        \\begin{pmatrix}\n",
    "            -V_{\\infty 1} \\\\ \\vdots \\\\ -V_{\\infty i}  \\\\ \\vdots \\\\ -V_{\\infty m} \n",
    "        \\end{pmatrix}\n",
    "    \\\\\n",
    "        \\mathbb{G} \\Gamma & = \\mathbb{V}_{\\hat{n}}\n",
    "    \\\\\n",
    "        \\Rightarrow \\Gamma & = \\mathbb{G}^{-1}  \\mathbb{V}_{\\hat{n}}\n",
    "\\end{align}\n",
    "\n",
    "with $G_{i,j} = G_{i,j,\\hat{n}}$ and $V_{\\infty i}=V_{\\infty \\hat{n}_{i}}$\n"
   ]
  },
  {
   "cell_type": "markdown",
   "metadata": {
    "heading_collapsed": true
   },
   "source": [
    "# Geometry"
   ]
  },
  {
   "cell_type": "markdown",
   "metadata": {
    "heading_collapsed": true,
    "hidden": true
   },
   "source": [
    "## Horseshoe definition"
   ]
  },
  {
   "cell_type": "markdown",
   "metadata": {
    "hidden": true
   },
   "source": [
    "A horseshoe is a five-sections vortex defined as follows:\n",
    "\n",
    "<img src=\"img/IMG_2634.JPG\" alt=\"Drawing\" style=\"width: 500px;\"/>\n",
    "\n",
    "* The control point $CP$ of the corresponding panel is at position $p_m$ distance of the chord.\n",
    "* The bound vortex $AB$ at position $p_n$ distance of the chord.\n",
    "* $p_m$ and $p_n$ are typically 3/4 and 1/4, respectively, but this can be changed by the user.\n",
    "* Point $A$ defines the left side of the panel, $B$ the right side, and flow is expected to come from the leading edge direction. Thus, the normal of the panel points up in the clockwise direction of $ACPB$.\n",
    "* Semi-infinite vortex are be shed in the direction of freestream from points $A'$ and $B'$"
   ]
  },
  {
   "cell_type": "markdown",
   "metadata": {
    "heading_collapsed": true,
    "hidden": true
   },
   "source": [
    "## Wing definition"
   ]
  },
  {
   "cell_type": "markdown",
   "metadata": {
    "hidden": true
   },
   "source": [
    "The type `Wing` in `FLOWVLM.jl` is a constructor for an individual lifting surface. It builds the wing by chord sections from left to right constrained to all chords being parallel to the $zx$-plane in the local reference frame (if done otherwise defines the normal of the surface upside down). \n",
    "\n",
    "<img src=\"img/localcoordsystem01.png\" alt=\"Drawing\" style=\"width: 500px;\"/>\n",
    "\n",
    "The wing shown above (Bertin's wing) was built with the following code:\n",
    "\n",
    "```julia\n",
    "include(\"src/FLOWVLM.jl\")\n",
    "vlm=FLOWVLM\n",
    "\n",
    "b=98*0.0254      # Span\n",
    "ar = 5.0         # Aspect ratio\n",
    "tr = 1.0         # Taper ratio\n",
    "lambda = 45.0    # Sweep\n",
    "gamma = 0.0      # Dihedral\n",
    "twist_tip = 0.0  # Tip's twist\n",
    "twist_root = 0.0 # Root's twist\n",
    "\n",
    "n=4              # Lattice per semi-span\n",
    "r=1.0            # Ratio between first and last lattice's span\n",
    "\n",
    "# Geometrical calculations\n",
    "cr = 1/tr\n",
    "c_tip = b/ar\n",
    "c_root = cr*c_tip\n",
    "y_tip = b/2\n",
    "x_tip = y_tip*tan(lambda*pi/180)\n",
    "z_tip = y_tip*tan(gamma*pi/180)\n",
    "\n",
    "# Initializes the wing with the left tip's chord\n",
    "wing = vlm.Wing(x_tip, -y_tip, z_tip, c_tip, twist_tip)\n",
    "# Adds the root chord\n",
    "vlm.addchord(wing, 0.0, 0.0, 0.0, c_root, twist_root, n; r=r)\n",
    "# Adds the right tip chord\n",
    "vlm.addchord(wing, x_tip, y_tip, z_tip, c_tip, twist_tip, n; r=1/r)\n",
    "```"
   ]
  },
  {
   "cell_type": "markdown",
   "metadata": {
    "hidden": true
   },
   "source": [
    "In order to visualize the geometry, first the indisturbed freestream must be given (it will use it to calculate the direction of the force-free trailing wakes), then the geometry can be exported as a VTK-legacy format to be opened in Paraview:\n",
    "\n",
    "```julia\n",
    "function Vinf(X, t)\n",
    "    return [55.0, 0.0, 0.0]\n",
    "end\n",
    "\n",
    "# Sets the freestream function\n",
    "vlm.setVinf(wing, Vinf)\n",
    "\n",
    "# Generates VTK\n",
    "vlm.save(wing, \"BertinsWing\"; save_horseshoes=true)\n",
    "```"
   ]
  },
  {
   "cell_type": "markdown",
   "metadata": {
    "heading_collapsed": true,
    "hidden": true
   },
   "source": [
    "## Lattice refinement"
   ]
  },
  {
   "cell_type": "markdown",
   "metadata": {
    "hidden": true
   },
   "source": [
    "Since the calculation of aerodynamic forces needs a lattice refinement on wherever there are high changes in circulation, I added the feature to `vlm.addchord()` of refining the lattice at an indicated location:\n",
    "\n",
    "```julia\n",
    "# In this code, vlm.simpleWing() is a wrapper for vlm.addchord()\n",
    "include(\"docs/validation.jl\");\n",
    "\n",
    "magVinf = 163*0.3048 # m/s\n",
    "alpha = 4.2\n",
    "b=98*0.0254\n",
    "lambda = 45.0\n",
    "ar = 5.0\n",
    "tr = 1.0\n",
    "gamma = 0.\n",
    "twist = 0.0\n",
    "\n",
    "function Vinf(X, t)\n",
    "  return magVinf*[ cos(alpha*pi/180), 0.0, sin(alpha*pi/180)]\n",
    "end\n",
    "\n",
    "wing = vlm.simpleWing(b, ar, tr, twist, lambda, gamma;\n",
    "                       n=4*2^4, r=1/40.0, central=true);\n",
    "vlm.setVinf(wing, Vinf)\n",
    "```\n",
    "\n",
    "<img src=\"img/latticeref00.png\" alt=\"Drawing\" style=\"width: 800px;\"/>"
   ]
  },
  {
   "cell_type": "markdown",
   "metadata": {
    "hidden": true
   },
   "source": [
    "```julia\n",
    "wing = vlm.simpleWing(b, ar, tr, twist, lambda, gamma;\n",
    "                       n=4*2^4, r=1/40.0, central=0.25);\n",
    "vlm.setVinf(wing, Vinf)\n",
    "```\n",
    "<img src=\"img/latticeref01.png\" alt=\"Drawing\" style=\"width: 800px;\"/>"
   ]
  },
  {
   "cell_type": "markdown",
   "metadata": {
    "hidden": true
   },
   "source": [
    "However, for simplicity I didn't add the feature of distributing the number of lattices in each section through that method, which makes it somewhat choppy when the center is not at 0.5 (see picture above). I defined a method for complex refinement where the user can choose how to distribute the lattices in each section (see documentation of function `vlm.addchord()` for more details):\n",
    "\n",
    "```julia\n",
    "secs = [[25, 45, 1/40], [75, 55, 40]]\n",
    "wing = vlm.simpleWing(b, ar, tr, twist, lambda, gamma;\n",
    "                       n=4*2^4, refinement=secs);\n",
    "vlm.setVinf(wing, Vinf)\n",
    "```\n",
    "\n",
    "<img src=\"img/latticeref03.png\" alt=\"Drawing\" style=\"width: 800px;\"/>"
   ]
  },
  {
   "cell_type": "markdown",
   "metadata": {
    "hidden": true
   },
   "source": [
    "This method is specially useful for refining around distributed propulsion:\n",
    "\n",
    "```julia\n",
    "secs = [[25, 25, 1/10], [20, 25, 10],  [20, 25, 1/10], [35, 25, 10]]\n",
    "wing = vlm.simpleWing(b, ar, tr, twist, lambda, gamma;\n",
    "                       n=4*2^4, refinement=secs);\n",
    "vlm.setVinf(wing, Vinf)\n",
    "```\n",
    "\n",
    "\n",
    "<img src=\"img/latticeref02.png\" alt=\"Drawing\" style=\"width: 800px;\"/>\n"
   ]
  },
  {
   "cell_type": "markdown",
   "metadata": {
    "heading_collapsed": true,
    "hidden": true
   },
   "source": [
    "## Defining multiple lifting surfaces"
   ]
  },
  {
   "cell_type": "markdown",
   "metadata": {
    "hidden": true
   },
   "source": [
    "The class `WingSystem` allows to group multiple `Wing` objects and solve for their circulation and other fields while accounting for interactions between wings (or lifting surfaces). Here is an example of a wing and a horizontal tail:\n",
    "\n",
    "```julia\n",
    "include(\"src/FLOWVLM.jl\")\n",
    "vlm=FLOWVLM\n",
    "\n",
    "AOA = 10\n",
    "Vinf(X, t) = 55*[cos(AOA*pi/180), 0, sin(AOA*pi/180)]\n",
    "rhoinf = 9.093/10^1\n",
    "\n",
    "# Dimensions of wing\n",
    "w_b = 98*0.0254    # Span\n",
    "w_ar = 7.0         # Aspect ratio\n",
    "w_tr = 0.75        # Taper ratio\n",
    "w_lambda = 30.0    # Sweep\n",
    "w_gamma = 4.0      # Dihedral\n",
    "w_twist_tip = -5.0 # Tip's twist\n",
    "w_twist_root = 0.0 # Root's twist\n",
    "w_n=20             # Lattice per semi-span\n",
    "w_r=5.0            # Ratio between first and last lattice's span\n",
    "\n",
    "# Dimensions of horizontal tail\n",
    "t_b = 1.0          # Span\n",
    "t_ar = 6.0         # Aspect ratio\n",
    "t_tr = 1.0         # Taper ratio\n",
    "t_lambda = 5.0     # Sweep\n",
    "t_gamma = 0.0      # Dihedral\n",
    "t_twist_tip = 0.0  # Tip's twist\n",
    "t_twist_root = 0.0 # Root's twist\n",
    "t_n=10             # Lattice per semi-span\n",
    "t_r=5.0            # Ratio between first and last lattice's span\n",
    "\n",
    "l = 3.0            # Position of tail\n",
    "inc = 7.5          # Angle of incidence of tail\n",
    "\n",
    "# Geometrical calculations\n",
    "w_cr = 1/w_tr\n",
    "w_c_tip = w_b/w_ar\n",
    "w_c_root = w_cr*w_c_tip\n",
    "w_y_tip = w_b/2\n",
    "w_x_tip = w_y_tip*tan(w_lambda*pi/180)\n",
    "w_z_tip = w_y_tip*tan(w_gamma*pi/180)\n",
    "t_cr = 1/t_tr\n",
    "t_c_tip = t_b/t_ar\n",
    "t_c_root = t_cr*t_c_tip\n",
    "t_y_tip = t_b/2\n",
    "t_x_tip = t_y_tip*tan(t_lambda*pi/180)\n",
    "t_z_tip = t_y_tip*tan(t_gamma*pi/180)\n",
    "\n",
    "# Builds the wing\n",
    "wing = vlm.Wing(w_x_tip, -w_y_tip, w_z_tip, w_c_tip, w_twist_tip)\n",
    "vlm.addchord(wing, 0.0, 0.0, 0.0, w_c_root, w_twist_root, w_n; r=w_r)\n",
    "vlm.addchord(wing, w_x_tip, w_y_tip, w_z_tip, w_c_tip, w_twist_tip, w_n; r=1/w_r)\n",
    "\n",
    "# Builds the horizontal tail\n",
    "tail = vlm.Wing(t_x_tip, -t_y_tip, t_z_tip, t_c_tip, t_twist_tip)\n",
    "vlm.addchord(tail, 0.0, 0.0, 0.0, t_c_root, t_twist_root, t_n; r=t_r)\n",
    "vlm.addchord(tail, t_x_tip, t_y_tip, t_z_tip, t_c_tip, t_twist_tip, t_n; r=1/t_r)\n",
    "\n",
    "# Positions the tail\n",
    "t_O = [l, 0, 0]                                # Origin\n",
    "t_Oaxis = [cos(inc*pi/180) 0 -sin(inc*pi/180); # Axis orientation\n",
    "                 0         1           0     ;\n",
    "           sin(inc*pi/180) 0 cos(inc*pi/180) ]\n",
    "vlm.setcoordsystem(tail, t_O, t_Oaxis) \n",
    "\n",
    "# Creates the WingSystem\n",
    "system = vlm.WingSystem()\n",
    "vlm.addwing(system, \"Wing\", wing)\n",
    "vlm.addwing(system, \"Tail\", tail)\n",
    "\n",
    "\n",
    "# Solves VLM\n",
    "vlm.solve(system, Vinf)\n",
    "\n",
    "# Calculates forces and moments\n",
    "vlm.calculate_field(system, \"Ftot\"; rhoinf=rhoinf)\n",
    "vlm.calculate_field(system, \"Mtot\")\n",
    "\n",
    "# Outputs a VTK\n",
    "vlm.save(system, \"example\")\n",
    "```"
   ]
  },
  {
   "cell_type": "markdown",
   "metadata": {
    "hidden": true
   },
   "source": [
    "<img src=\"img/example00.png\" alt=\"Drawing\" style=\"width: 600px;\"/>\n",
    "\n",
    "For more guidance, `vlm.exampleWing()` contains a neat example of creating a full airplane:\n",
    "\n",
    "<img src=\"img/example01.png\" alt=\"Drawing\" style=\"width: 600px;\"/>\n"
   ]
  },
  {
   "cell_type": "markdown",
   "metadata": {
    "heading_collapsed": true
   },
   "source": [
    "# Solve VLM (Circulation)"
   ]
  },
  {
   "cell_type": "markdown",
   "metadata": {
    "hidden": true
   },
   "source": [
    "Once a Wing object has been defined, solving the vortex lattice on the lifting surface (or lifting surfaces if a WingSystem) calculates the circulation $\\Gamma$ of each horseshoe vortex imposing the boundary condition of no-trough flow. The solver receives the function `Vinf` that is used for calculating the undisturbed freestream velocity at each control point and defines the direction of each semi-infinite vortex.\n",
    "\n",
    "```julia\n",
    "function Vinf(X, t)\n",
    "    return [49.7, 0.0, 0.0]\n",
    "end\n",
    "\n",
    "vlm.solve(wing, Vinf)\n",
    "```\n",
    "\n",
    "`vlm.solve(wing, Vinf)` will delete any previous solutions and overwrite any previus `Vinf` and will generate the field Gamma in `wing.sol[\"Gamma\"]`.\n",
    "\n",
    "\n",
    "SIDENOTE\n",
    "\n",
    "There are three different ways of defining the angle of attack (AOA) of the wing:\n",
    "\n",
    "1. Include the AOA in the inclination of the freestream defined in the function `Vinf(X, t)`.\n",
    "2. Include the AOA in the geometry of the wing when constructing the wing.\n",
    "3. Modify the local coordinate system of the wing to reflect the AOA respect to the global coordinate system.\n"
   ]
  },
  {
   "cell_type": "markdown",
   "metadata": {
    "heading_collapsed": true
   },
   "source": [
    "# Aerodynamic forces"
   ]
  },
  {
   "cell_type": "markdown",
   "metadata": {
    "hidden": true
   },
   "source": [
    "Aerodynamic forces are calculated through Kutta-Joukowski theorem:\n",
    "\n",
    "\\begin{align}\n",
    "        \\vec{F} & \\equiv \\rho \\int_{S}\\vec{V_{\\infty}} \\times \\vec{\\Gamma} dS\n",
    "\\end{align}\n",
    "\n",
    "with $S$ the path of the vortex line. In the case of a straight vortex bounded by points A and B in the direction AB:\n",
    "\n",
    "\\begin{align}\n",
    "        \\vec{F} & = \\rho \\Gamma (\\vec{V_{\\infty}} \\times \\vec{S})\n",
    "\\end{align}\n",
    "\n",
    "\\begin{equation}\n",
    "        \\Rightarrow \\boxed{ \\vec{F} = \\rho \\Gamma  \\vec{V_{\\infty}} \\times (\\vec{B}-\\vec{A})  }\n",
    "\\end{equation}\n",
    "\n",
    "which then will be decomposed as:\n",
    "\n",
    "\\begin{align}\n",
    "    \\vec{F} & = \n",
    "        (\\vec{F} \\boldsymbol\\cdot {\\tiny \\hat{D}} ) {\\tiny \\hat{D}}\n",
    "        + (\\vec{F}\\boldsymbol\\cdot\\hat{s})\\hat{s}\n",
    "        +(\\vec{F}\\boldsymbol\\cdot {\\tiny\\hat{L}} ) {\\tiny\\hat{L}}\n",
    "    \\\\\n",
    "    \\vec{F} & = \\vec{D} + \\vec{S} + \\vec{L}\n",
    "\\end{align}\n",
    "\n",
    "If the undisturbed freestream is used, interactions between lifting surfaces (multiple wings) are not accounted for; hence, instead of calculating forces over $\\vec{V_{\\infty}}$, they will be calculated over $\\vec{V} = \\vec{V_{\\infty}} + \\vec{V_{ind}}$. Calculating drag through this method is less accurate than calculating it at the Trefftz plane; however, this allows to account by induced downwash in interaction between wings when calculating aerodynamic forces. Another issue to consider, is that calculating the calculation of $\\vec{V_{ind}}$ at each horseshoe introduces a computation of complexity $O((4N)^2)$, with $N$ the number of lattices; hence, when modeling a problem with only one lifting surface, prefer to calculate the lift just on $\\vec{V} = \\vec{V_{\\infty}}$ and the drag at the far field (Trefftz plane)."
   ]
  },
  {
   "cell_type": "markdown",
   "metadata": {
    "heading_collapsed": true
   },
   "source": [
    "# Moments"
   ]
  },
  {
   "cell_type": "markdown",
   "metadata": {
    "hidden": true
   },
   "source": [
    "Following the convention for moments shown in Bertin's *Aerodynamics for Engineers*\n",
    "<img src=\"img/IMG_2661.JPG\" alt=\"Drawing\" style=\"width: 200px;\"/>\n",
    "\n",
    "the axis of the moments are defased from the local coordinate system of the wing (geometric) as follows:\n",
    "\n",
    "<img src=\"img/moments00_1.png\" alt=\"Drawing\" style=\"width: 500px;\"/>\n",
    "\n",
    "The total moment is calculated as the sum over each panel's moment:\n",
    "\n",
    "\\begin{equation} \\small\n",
    "\\boxed{    \\vec{M}_{\\tiny TOT \\small} = \\sum\\limits_{i=1}^m (\\vec{r}_{i}-\\vec{r}_{\\tiny CG \\small}) \\times \\vec{F}_{i}\n",
    "}\n",
    "\\end{equation}\n",
    "\n",
    "and then decomposed into roll, pitch, and yaw:\n",
    "\n",
    "\\begin{align} \n",
    "    \\bullet & \\vec{L} = - \\big(\\vec{M}_{\\tiny{TOT}}\\big)_x\n",
    "    \\\\\n",
    "    \\bullet & \\vec{M} = + \\big(\\vec{M}_{\\tiny{TOT}}\\big)_y\n",
    "    \\\\\n",
    "    \\bullet & \\vec{N} = - \\big(\\vec{M}_{\\tiny{TOT}}\\big)_z\n",
    "\\end{align}\n",
    "\n",
    "\n",
    "\n",
    "With that, the total moment vector looks like this:\n",
    "<img src=\"img/moments_Mtot01.png\" alt=\"Drawing\" style=\"width: 500px;\"/>\n",
    "\n",
    "Rolling moment:\n",
    "<img src=\"img/moments_ML01.png\" alt=\"Drawing\" style=\"width: 500px;\"/>\n",
    "Pitching moment:\n",
    "<img src=\"img/moments_MM01.png\" alt=\"Drawing\" style=\"width: 500px;\"/>\n",
    "Yawing moment:\n",
    "<img src=\"img/moments_MN01.png\" alt=\"Drawing\" style=\"width: 500px;\"/>\n"
   ]
  },
  {
   "cell_type": "markdown",
   "metadata": {
    "heading_collapsed": true
   },
   "source": [
    "# Q&A"
   ]
  },
  {
   "cell_type": "markdown",
   "metadata": {
    "hidden": true
   },
   "source": [
    "Instead of asking me question directly, for documentation purposes, please add a question/request to this list and I'll answer it."
   ]
  },
  {
   "cell_type": "markdown",
   "metadata": {
    "heading_collapsed": true,
    "hidden": true
   },
   "source": [
    "### Q: How can I model a curved surface like an ASWING deformed wing?"
   ]
  },
  {
   "cell_type": "markdown",
   "metadata": {
    "hidden": true
   },
   "source": [
    "Easy peasy, you only need x,y,z positions along the leading edge and then construct the FLOWVLM wing by adding each point as a chord. The following lines contain an example of one-piece wing, meanwhile `examples/wingdeformation.jl` extends the same example to add winglets."
   ]
  },
  {
   "cell_type": "code",
   "execution_count": 1,
   "metadata": {
    "hidden": true
   },
   "outputs": [
    {
     "data": {
      "text/plain": [
       "wingdeformation"
      ]
     },
     "execution_count": 1,
     "metadata": {},
     "output_type": "execute_result"
    }
   ],
   "source": [
    "vlm_path = \"../\"\n",
    "include(vlm_path*\"src/FLOWVLM.jl\")\n",
    "vlm = FLOWVLM\n",
    "\n",
    "save_horseshoes = true\n",
    "run_name = \"wingdeform\"\n",
    "\n",
    "\n",
    "\n",
    "\"\"\"\n",
    "  Example of modeling a wing that has been deformed during flutter. In this case\n",
    "  we received chord positions along the deformed wing calculated from ASWING and\n",
    "  we use this information to construct a FLOWVLM Wing.\n",
    "\"\"\"\n",
    "function wingdeformation(; save_path=\"../wingdeformation00/\",\n",
    "                                  paraview=true, verbose=false, delete=false,\n",
    "                                  prompt=false)\n",
    "\n",
    "  # ------------------- GEOMETRY FROM ASWING -----------------------------------\n",
    "  # Wing\n",
    "  w_x=[3.70114, 3.68389, 3.63262, 3.54877, 3.43465, 3.29332, 3.12842, 2.94402,\n",
    "            2.74437, 2.53369, 2.36651, 2.13647, 1.90578, 1.67749, 1.45376,\n",
    "            1.23582, 1.02398, 0.849822, 0.678993, 0.510528, 0.5, 0.510528,\n",
    "            0.678993, 0.849822, 1.02398, 1.23582, 1.45376, 1.67749, 1.90578,\n",
    "            2.13647, 2.36651, 2.53369, 2.74437, 2.94402, 3.12842, 3.29332,\n",
    "            3.43465, 3.54877, 3.63262, 3.68389]\n",
    "  w_y=[-20.4679, -20.3627, -20.0503, -19.5392, -18.8436, -17.982, -16.9767,\n",
    "            -15.8524, -14.6347, -13.3495, -12.3294, -10.925, -9.51598,\n",
    "            -8.12092, -6.75307, -5.42009, -4.12408, -3.05835, -2.01297,\n",
    "            -0.982085, 0.0, 0.982085, 2.01297, 3.05835, 4.12408, 5.42009,\n",
    "            6.75307, 8.12092, 9.51598, 10.925, 12.3294, 13.3495, 14.6347,\n",
    "            15.8524, 16.9767, 17.982, 18.8436, 19.5392, 20.0503, 20.3627]\n",
    "  w_z=[2.2904, 2.27214, 2.2179, 2.12927, 2.00887, 1.86028, 1.68818, 1.49839,\n",
    "            1.29799, 1.09526, 0.943213, 0.749407, 0.573784, 0.418929,\n",
    "            0.286959, 0.17961, 0.0983574, 0.0499936, 0.0188427, 0.0034735,\n",
    "            -2.79235e-28, 0.0034735, 0.0188427, 0.0499936, 0.0983574, 0.17961,\n",
    "            0.286959, 0.418929, 0.573784, 0.749407, 0.943213, 1.09526, 1.29799,\n",
    "            1.49839, 1.68818, 1.86028, 2.00887, 2.12927, 2.2179, 2.27214]\n",
    "  w_chord=[1.4, 1.4, 1.4, 1.4, 1.4, 1.4, 1.4, 1.4, 1.4, 1.4, 1.4, 1.4, 1.4, 1.4,\n",
    "            1.4, 1.4, 1.4, 1.4, 1.4, 1.4, 2.0, 1.4, 1.4, 1.4, 1.4, 1.4, 1.4,\n",
    "            1.4, 1.4, 1.4, 1.4, 1.4, 1.4, 1.4, 1.4, 1.4, 1.4, 1.4, 1.4, 1.4]\n",
    "  w_twist=[-0.0766763, -0.0766224, -0.0764595, -0.0761964, -0.0758377,\n",
    "            -0.0753736, -0.0747697, -0.0739611, -0.0728547, -0.0713373,\n",
    "            -0.0698069, -0.0672505, -0.0647935, -0.0623463, -0.0598169,\n",
    "            -0.0571208, -0.0541716, -0.051353, -0.0487555, -0.0457306, 0.0,\n",
    "            -0.0457294, -0.0487555, -0.051353, -0.0541716, -0.0571208,\n",
    "            -0.0598169, -0.0623463, -0.0647935, -0.0672505, -0.0698069,\n",
    "            -0.0713373, -0.0728547, -0.0739611, -0.0747697, -0.0753736,\n",
    "            -0.0758377, -0.0761964, -0.0764595, -0.0766224]\n",
    "\n",
    "    \n",
    "  # ------------------- FLOWVLM PARAMETERS -------------------------------------\n",
    "  magVinf = 1.0                         # Freestream magnitude\n",
    "  Vinf(X,t) = magVinf*[1,0,0]           # Freestream\n",
    "  Sref = 1.0                            # Reference area for coefficients\n",
    "\n",
    "    \n",
    "  # ------------------- PRECALCULATIONS ----------------------------------------\n",
    "  nchords_w = size(w_y, 1)              # Number of chords along wing\n",
    "\n",
    "    \n",
    "  # ------------------- WING CONSTRUCTION --------------------------------------\n",
    "  # Builds wing\n",
    "  wing = nothing                        # Wing object\n",
    "  for i in 1:nchords_w\n",
    "    x, y, z, c, twist, n = w_x[i], w_y[i], w_z[i], w_chord[i], w_twist[i], 1\n",
    "\n",
    "    if i==1 # Initiate Wing object with left-furthest chord\n",
    "      wing = vlm.Wing(x, y, z, c, twist)\n",
    "\n",
    "    else  # Add chords\n",
    "      vlm.addchord(wing, x, y, z, c, twist, n)\n",
    "    end\n",
    "  end\n",
    "\n",
    "    \n",
    "  # ------------ RUN FLOWVLM ---------------------------------------------------\n",
    "  # Solves the lattice\n",
    "  vlm.solve(wing, Vinf)\n",
    "\n",
    "  # Calculates aerodynamic properties\n",
    "  vlm.calculate_field(wing, \"CFtot\"; S=Sref)\n",
    "\n",
    "  # Outputs vtk geometry\n",
    "  if save_path!=nothing\n",
    "    vlm.vtk.create_path(save_path, prompt)\n",
    "    vlm.save(wing, run_name;\n",
    "              save_horseshoes=save_horseshoes, path=save_path)\n",
    "  end\n",
    "\n",
    "\n",
    "  # ------------ VISUALIZATION -------------------------------------------------\n",
    "  # Calls Paraview and deletes temp files\n",
    "  if save_path!=nothing\n",
    "\n",
    "    if paraview\n",
    "      strn = run_name * \"_vlm.vtk;\"\n",
    "      run(`paraview --data=\"$save_path$strn\"`)\n",
    "    end\n",
    "\n",
    "    if delete\n",
    "      run(`rm -rf $save_path`)\n",
    "    end\n",
    "\n",
    "  end\n",
    "\n",
    "end"
   ]
  },
  {
   "cell_type": "code",
   "execution_count": 2,
   "metadata": {
    "collapsed": true,
    "hidden": true
   },
   "outputs": [],
   "source": [
    "wingdeformation()"
   ]
  },
  {
   "cell_type": "markdown",
   "metadata": {
    "hidden": true
   },
   "source": [
    "This is what the original wing looks like in ASWING:\n",
    "\n",
    "<img src=\"img/wingdeform00.png\" alt=\"Drawing\" style=\"width: 600px;\"/>\n",
    "\n",
    "Here is the FLOWVLM wing generated with `examples/wingdeformation.jl`:\n",
    "\n",
    "<img src=\"img/wingdeform01.png\" alt=\"Drawing\" style=\"width: 600px;\"/>"
   ]
  },
  {
   "cell_type": "markdown",
   "metadata": {
    "heading_collapsed": true,
    "hidden": true
   },
   "source": [
    "### Q: ....?\n",
    "A:"
   ]
  },
  {
   "cell_type": "markdown",
   "metadata": {
    "heading_collapsed": true
   },
   "source": [
    "# TODO"
   ]
  },
  {
   "cell_type": "markdown",
   "metadata": {
    "hidden": true
   },
   "source": [
    "Pending tasks that I may or may not complete depending on the need for it.\n",
    "\n",
    "* Validation case on dehidral\n",
    "* Validation case on sideslip\n",
    "* Validation case on wing-tail interaction\n",
    "* Validation case on wing-canard interference"
   ]
  }
 ],
 "metadata": {
  "kernelspec": {
   "display_name": "Julia 0.6.0",
   "language": "julia",
   "name": "julia-0.6"
  },
  "language_info": {
   "file_extension": ".jl",
   "mimetype": "application/julia",
   "name": "julia",
   "version": "0.6.0"
  }
 },
 "nbformat": 4,
 "nbformat_minor": 2
}
